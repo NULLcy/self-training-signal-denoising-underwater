{
 "cells": [
  {
   "cell_type": "code",
   "execution_count": 5,
   "metadata": {},
   "outputs": [
    {
     "name": "stdout",
     "output_type": "stream",
     "text": [
      "<class 'h5py._hl.files.File'>\n",
      "['data_ch21']\n"
     ]
    }
   ],
   "source": [
    "# from scipy.io import loadmat\n",
    "# import numpy as np\n",
    "\n",
    "# data = loadmat(\"E:\\\\水声智能降噪\\\\dataset\\\\time_X_ch21_15_45.mat\")\n",
    "\n",
    "# print(type(data))\n",
    "\n",
    "import h5py\n",
    "data=h5py.File('E:\\\\水声智能降噪\\\\dataset\\\\time_X_ch21_15_45.mat','r')\n",
    "print(type(data))\n",
    "key_list=[key for key in data.keys()]\n",
    "print(key_list)"
   ]
  },
  {
   "cell_type": "code",
   "execution_count": 27,
   "metadata": {},
   "outputs": [
    {
     "data": {
      "text/plain": [
       "'dataset_utils.py'"
      ]
     },
     "execution_count": 27,
     "metadata": {},
     "output_type": "execute_result"
    }
   ],
   "source": []
  }
 ],
 "metadata": {
  "kernelspec": {
   "display_name": "Python 3.8.5 ('base')",
   "language": "python",
   "name": "python3"
  },
  "language_info": {
   "codemirror_mode": {
    "name": "ipython",
    "version": 3
   },
   "file_extension": ".py",
   "mimetype": "text/x-python",
   "name": "python",
   "nbconvert_exporter": "python",
   "pygments_lexer": "ipython3",
   "version": "3.8.5"
  },
  "orig_nbformat": 4,
  "vscode": {
   "interpreter": {
    "hash": "af8259ad5c1c9c7a69bd6ea085234cf8fd3a6a37a71ca551828b314c4d89b0ad"
   }
  }
 },
 "nbformat": 4,
 "nbformat_minor": 2
}
